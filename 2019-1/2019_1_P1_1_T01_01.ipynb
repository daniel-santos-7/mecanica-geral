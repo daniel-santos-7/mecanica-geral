{
 "cells": [
  {
   "cell_type": "markdown",
   "metadata": {},
   "source": [
    "# UNIVERSIDADE FEDERAL RURAL DO SEMI-ÁRIDO - UFERSA"
   ]
  },
  {
   "cell_type": "markdown",
   "metadata": {},
   "source": [
    "# CAMPUS CARAÚBAS"
   ]
  },
  {
   "cell_type": "markdown",
   "metadata": {},
   "source": [
    "## Disciplina: CAM0005 - Mecânica Geral I – 2019.1"
   ]
  },
  {
   "cell_type": "markdown",
   "metadata": {},
   "source": [
    "## Professora: Ana Paula Ferreira Ramos"
   ]
  },
  {
   "cell_type": "markdown",
   "metadata": {},
   "source": [
    "## Avaliação 1 (P1)"
   ]
  },
  {
   "cell_type": "code",
   "execution_count": 22,
   "metadata": {},
   "outputs": [],
   "source": [
    "# importações necessárias para resolver os exercícios\n",
    "from numpy import array as vector, cos, sin, arccos, degrees, radians"
   ]
  },
  {
   "cell_type": "markdown",
   "metadata": {},
   "source": [
    "**Questão 1**: Duas forças P e Q são aplicadas em um Ponto A, como ilustrado em suporte. Sabendo-se que P=75N e Q=125N.\n",
    "Determine graficamente a intensidade e a direção da força resultante aplicando (a) Lei do Paralelogramo, (b) a regra\n",
    "do triângulo."
   ]
  },
  {
   "cell_type": "markdown",
   "metadata": {},
   "source": [
    "![Figura 1](figuras/figura_1.jpg \"Figura 1\")"
   ]
  },
  {
   "cell_type": "markdown",
   "metadata": {},
   "source": [
    "Resolução:"
   ]
  },
  {
   "cell_type": "markdown",
   "metadata": {},
   "source": [
    "**a)**"
   ]
  },
  {
   "cell_type": "code",
   "execution_count": 11,
   "metadata": {},
   "outputs": [
    {
     "name": "stdout",
     "output_type": "stream",
     "text": [
      "Fr = 178.89817825115523\n"
     ]
    }
   ],
   "source": [
    "# módulo da força P\n",
    "P = 75\n",
    "\n",
    "# módulo da força Q\n",
    "Q = 125\n",
    "\n",
    "# ângulo de 55° em radianos (entre os vetores)\n",
    "ang55 = radians(55)\n",
    "\n",
    "# calcular força resultante pela regra do paralelogramo\n",
    "Fr = (P**2 + Q**2 + 2*P*Q*cos(ang55))**.5\n",
    "\n",
    "# exibir resultado\n",
    "print('Fr =',Fr)"
   ]
  },
  {
   "cell_type": "markdown",
   "metadata": {},
   "source": [
    "**b)**"
   ]
  },
  {
   "cell_type": "code",
   "execution_count": null,
   "metadata": {},
   "outputs": [],
   "source": []
  },
  {
   "cell_type": "markdown",
   "metadata": {},
   "source": [
    "**Questão 2**: Determine (Figura: Questão 2) : (a) as componentes x, y e z, da Força de 900N (b) os ângulos de direção coordenados (alfa, beta, gama) da força de 900N. (c) a projeção da força de 900N, ao longo da linha de ação da força de 750N.(d) A intensidade da força resultante na origem dos eixos coordenado (O)."
   ]
  },
  {
   "cell_type": "markdown",
   "metadata": {},
   "source": [
    "![Figura 2](figuras/figura_2.jpg \"Figura 2\")"
   ]
  },
  {
   "cell_type": "markdown",
   "metadata": {},
   "source": [
    "Resolução:"
   ]
  },
  {
   "cell_type": "markdown",
   "metadata": {},
   "source": [
    "**a)**"
   ]
  },
  {
   "cell_type": "code",
   "execution_count": 25,
   "metadata": {},
   "outputs": [
    {
     "name": "stdout",
     "output_type": "stream",
     "text": [
      "X = 357.4181357703926 Y = 130.0895626073391 Z = 815.677008332985 (N)\n"
     ]
    }
   ],
   "source": [
    "# ângulo de 65° graus em radianos\n",
    "ang65 = radians(65)\n",
    "\n",
    "# ângulo de 20° graus em radianos\n",
    "ang20 = radians(20)\n",
    "\n",
    "# definir módulo da força\n",
    "F900 = 900\n",
    "\n",
    "# calcular cada componente\n",
    "comp_x = F900*cos(ang65)*cos(ang20)\n",
    "comp_y = F900*cos(ang65)*sin(ang20)\n",
    "comp_z = F900*sin(ang65)\n",
    "\n",
    "print('X =',comp_x,'Y =',comp_y,'Z =',comp_z,'(N)')"
   ]
  },
  {
   "cell_type": "markdown",
   "metadata": {},
   "source": [
    "**b)**"
   ]
  },
  {
   "cell_type": "code",
   "execution_count": 32,
   "metadata": {},
   "outputs": [
    {
     "name": "stdout",
     "output_type": "stream",
     "text": [
      "alfa = 66.6010381301441 beta = 81.68912826868312 gama = 24.99999999999999 °\n"
     ]
    }
   ],
   "source": [
    "# calcular alfa, beta, gama pela função arccos aplicada a cada componente\n",
    "alfa,beta,gama = arccos([comp_x/F900,comp_y/F900,comp_z/F900])\n",
    "\n",
    "# converter alfa, beta e gama para gradianos\n",
    "alfa,beta,gama = degrees([alfa,beta,gama])\n",
    "\n",
    "# exibir resultado\n",
    "print('alfa =',alfa,'beta =',beta,'gama =',gama,'°')"
   ]
  },
  {
   "cell_type": "markdown",
   "metadata": {},
   "source": [
    "**c)**"
   ]
  },
  {
   "cell_type": "code",
   "execution_count": 38,
   "metadata": {},
   "outputs": [],
   "source": [
    "# ângulo de 25° em radianos\n",
    "ang25 = radians(25)\n",
    "\n",
    "# ângulo de 35° em radianos\n",
    "ang35 = radians(35)\n",
    "\n",
    "# definindo vetor unitário da força de 750 N\n",
    "U750 = vector([sin(ang35)*cos(ang25),sin(ang35)*sin(ang25),cos(ang35)])"
   ]
  }
 ],
 "metadata": {
  "kernelspec": {
   "display_name": "Python 3",
   "language": "python",
   "name": "python3"
  },
  "language_info": {
   "codemirror_mode": {
    "name": "ipython",
    "version": 3
   },
   "file_extension": ".py",
   "mimetype": "text/x-python",
   "name": "python",
   "nbconvert_exporter": "python",
   "pygments_lexer": "ipython3",
   "version": "3.7.0"
  }
 },
 "nbformat": 4,
 "nbformat_minor": 2
}
