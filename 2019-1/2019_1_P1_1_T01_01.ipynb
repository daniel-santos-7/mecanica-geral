{
 "cells": [
  {
   "cell_type": "markdown",
   "metadata": {},
   "source": [
    "# UNIVERSIDADE FEDERAL RURAL DO SEMI-ÁRIDO - UFERSA"
   ]
  },
  {
   "cell_type": "markdown",
   "metadata": {},
   "source": [
    "# CAMPUS CARAÚBAS"
   ]
  },
  {
   "cell_type": "markdown",
   "metadata": {},
   "source": [
    "## Disciplina: CAM0005 - Mecânica Geral I – 2019.1"
   ]
  },
  {
   "cell_type": "markdown",
   "metadata": {},
   "source": [
    "## Professora: Ana Paula Ferreira Ramos"
   ]
  },
  {
   "cell_type": "markdown",
   "metadata": {},
   "source": [
    "## Avaliação 1 (P1)"
   ]
  },
  {
   "cell_type": "code",
   "execution_count": 9,
   "metadata": {},
   "outputs": [],
   "source": [
    "# importações necessárias para resolver os exercícios\n",
    "from numpy import array as vector, matrix, cos, sin, arccos, arcsin, degrees, radians\n",
    "from numpy.linalg import norm, solve"
   ]
  },
  {
   "cell_type": "markdown",
   "metadata": {},
   "source": [
    "**Questão 1**: Duas forças P e Q são aplicadas em um Ponto A, como ilustrado em suporte. Sabendo-se que P=75N e Q=125N.\n",
    "Determine graficamente a intensidade e a direção da força resultante aplicando (a) Lei do Paralelogramo, (b) a regra\n",
    "do triângulo."
   ]
  },
  {
   "cell_type": "markdown",
   "metadata": {},
   "source": [
    "![Figura 1](figuras/figura_1.jpg \"Figura 1\")"
   ]
  },
  {
   "cell_type": "markdown",
   "metadata": {},
   "source": [
    "Resolução:"
   ]
  },
  {
   "cell_type": "markdown",
   "metadata": {},
   "source": [
    "**a)**"
   ]
  },
  {
   "cell_type": "code",
   "execution_count": 10,
   "metadata": {},
   "outputs": [
    {
     "name": "stdout",
     "output_type": "stream",
     "text": [
      "Fr = 178.89817825115523\n"
     ]
    }
   ],
   "source": [
    "# módulo da força P\n",
    "P = 75\n",
    "\n",
    "# módulo da força Q\n",
    "Q = 125\n",
    "\n",
    "# o ângulo 55° em radianos (entre os vetores)\n",
    "ang55 = radians(55)\n",
    "\n",
    "# calcular força resultante pela regra do paralelogramo\n",
    "Fr = (P**2 + Q**2 + 2*P*Q*cos(ang55))**.5\n",
    "\n",
    "# exibir resultado\n",
    "print('Fr =',Fr)"
   ]
  },
  {
   "cell_type": "markdown",
   "metadata": {},
   "source": [
    "**b)**"
   ]
  },
  {
   "cell_type": "code",
   "execution_count": 11,
   "metadata": {},
   "outputs": [
    {
     "name": "stdout",
     "output_type": "stream",
     "text": [
      "ângulo com o eixo x = 75.08510060275142 °\n"
     ]
    }
   ],
   "source": [
    "# definir ângulo 125° em radianos\n",
    "ang125 = radians(125)\n",
    "\n",
    "# o ângulo entre a força resultante e a força e a força Q vale a = arcsen(sen(125°)*p/Fr)\n",
    "a = arcsin(sin(ang125)*P/Fr)\n",
    "\n",
    "# converter ângulo a para gradianos\n",
    "a = degrees(a)\n",
    "\n",
    "# ao somar a+60° é obtido o ângulo que a força resultante forma com o eixo x\n",
    "print('ângulo com o eixo x =',a+55,'°')"
   ]
  },
  {
   "cell_type": "markdown",
   "metadata": {},
   "source": [
    "**Questão 2**: Determine (Figura: Questão 2) : (a) as componentes x, y e z, da Força de 900N (b) os ângulos de direção coordenados (alfa, beta, gama) da força de 900N. (c) a projeção da força de 900N, ao longo da linha de ação da força de 750N.(d) A intensidade da força resultante na origem dos eixos coordenado (O)."
   ]
  },
  {
   "cell_type": "markdown",
   "metadata": {},
   "source": [
    "![Figura 2](figuras/figura_2.jpg \"Figura 2\")"
   ]
  },
  {
   "cell_type": "markdown",
   "metadata": {},
   "source": [
    "Resolução:"
   ]
  },
  {
   "cell_type": "markdown",
   "metadata": {},
   "source": [
    "**a)**"
   ]
  },
  {
   "cell_type": "code",
   "execution_count": 12,
   "metadata": {},
   "outputs": [
    {
     "name": "stdout",
     "output_type": "stream",
     "text": [
      "X = -130.0895626073391 Y = 815.677008332985 Z = 357.4181357703926 (N)\n"
     ]
    }
   ],
   "source": [
    "# ângulo de 65° graus em radianos\n",
    "ang65 = radians(65)\n",
    "\n",
    "# ângulo de 20° graus em radianos\n",
    "ang20 = radians(20)\n",
    "\n",
    "# calcular cada componente\n",
    "comp_x = -900*cos(ang65)*sin(ang20)\n",
    "comp_y = 900*sin(ang65)\n",
    "comp_z = 900*cos(ang65)*cos(ang20)\n",
    "\n",
    "print('X =',comp_x,'Y =',comp_y,'Z =',comp_z,'(N)')"
   ]
  },
  {
   "cell_type": "markdown",
   "metadata": {},
   "source": [
    "**b)**"
   ]
  },
  {
   "cell_type": "code",
   "execution_count": 13,
   "metadata": {},
   "outputs": [
    {
     "name": "stdout",
     "output_type": "stream",
     "text": [
      "alfa = 98.31087173131688 beta = 24.99999999999999 gama = 66.6010381301441 °\n"
     ]
    }
   ],
   "source": [
    "# calcular alfa, beta, gama pela função arccos aplicada a cada componente\n",
    "alfa,beta,gama = arccos([comp_x/900,comp_y/900,comp_z/900])\n",
    "\n",
    "# converter alfa, beta e gama para gradianos\n",
    "alfa,beta,gama = degrees([alfa,beta,gama])\n",
    "\n",
    "# exibir resultado\n",
    "print('alfa =',alfa,'beta =',beta,'gama =',gama,'°')"
   ]
  },
  {
   "cell_type": "markdown",
   "metadata": {},
   "source": [
    "**c)**"
   ]
  },
  {
   "cell_type": "code",
   "execution_count": 14,
   "metadata": {},
   "outputs": [
    {
     "name": "stdout",
     "output_type": "stream",
     "text": [
      "Módulo =  618459.9207904032 X = 321498.2204161442 Y = 506612.7084262667 Z = 149917.08226325177 (N)\n"
     ]
    }
   ],
   "source": [
    "# ângulo de 25° em radianos\n",
    "ang25 = radians(25)\n",
    "\n",
    "# ângulo de 35° em radianos\n",
    "ang35 = radians(35)\n",
    "\n",
    "# definindo vetor unitário da força de 750 N\n",
    "U750 = vector([sin(ang35)*cos(ang25),cos(ang35),sin(ang35)*sin(ang25)])\n",
    "\n",
    "# definindo força de 900 N\n",
    "F900 = 900*vector([comp_x,comp_y,comp_z])\n",
    "\n",
    "# calcular produto escalar\n",
    "produto = F900.dot(U750)\n",
    "\n",
    "# vetor projeção\n",
    "x,y,z = produto*U750\n",
    "\n",
    "print('Módulo = ',produto,'X =',x,'Y =',y,'Z =',z,'(N)')"
   ]
  },
  {
   "cell_type": "markdown",
   "metadata": {},
   "source": [
    "**d)**"
   ]
  },
  {
   "cell_type": "code",
   "execution_count": 15,
   "metadata": {},
   "outputs": [
    {
     "name": "stdout",
     "output_type": "stream",
     "text": [
      "X = -116690.72875356094 Y = 734723.6715329032 Z = 321858.1251007329\n"
     ]
    }
   ],
   "source": [
    "# definindo força de 750 N\n",
    "F750 = 750*U750\n",
    "\n",
    "# somar forças \n",
    "Fr = F900 + F750\n",
    "\n",
    "# componentes da força resultante\n",
    "x,y,z = Fr\n",
    "\n",
    "# exibir resultado\n",
    "print('X =',x,'Y =',y,'Z =',z)"
   ]
  },
  {
   "cell_type": "markdown",
   "metadata": {},
   "source": [
    "**Questão 3**: Três cabos mantém o balão na posição de equilíbrio ilustrada. Determine a força em cada cabo, sabendo-se que a\n",
    "força vertical exercida pelo balão no nó A é P=800N."
   ]
  },
  {
   "cell_type": "markdown",
   "metadata": {},
   "source": [
    "![Figura 3](figuras/figura_3.jpg \"Figura 3\")"
   ]
  },
  {
   "cell_type": "markdown",
   "metadata": {},
   "source": [
    "Resolução:"
   ]
  },
  {
   "cell_type": "code",
   "execution_count": 16,
   "metadata": {},
   "outputs": [
    {
     "name": "stdout",
     "output_type": "stream",
     "text": [
      "Fab = 200.91324200913238 Fac = 371.68949771689495 Fad = 415.5251141552512 (N)\n"
     ]
    }
   ],
   "source": [
    "# definir posições como vetores\n",
    "A = vector([0,5.6,0])\n",
    "B = vector([-4.2,0,0])\n",
    "C = vector([2.4,0,4.2])\n",
    "D = vector([0,0,-3.3])\n",
    "\n",
    "# definir vetores unitários das direções dos cabos\n",
    "AB = (B-A)/norm(B-A)\n",
    "AC = (C-A)/norm(C-A)\n",
    "AD = (D-A)/norm(D-A)\n",
    "\n",
    "# definir força P\n",
    "P = 800*vector([0,1,0])\n",
    "\n",
    "# matriz dos valores\n",
    "MA = matrix([AB,AC,AD]).T\n",
    "\n",
    "# matriz dos valores\n",
    "MB = matrix(-P).T\n",
    "\n",
    "# resolver sistema linear e obter forças\n",
    "Fab,Fac,Fad = solve(MA,MB).A1\n",
    "\n",
    "print('Fab =',Fab,'Fac =',Fac,'Fad =',Fad,'(N)')"
   ]
  },
  {
   "cell_type": "markdown",
   "metadata": {},
   "source": [
    "**Equações**:"
   ]
  },
  {
   "cell_type": "markdown",
   "metadata": {},
   "source": [
    "![Equacao 1](figuras/equacao_1.png \"Equação 1\")\n",
    "![Equacao 2](figuras/equacao_2.png \"Equação 2\")\n",
    "![Equacao 3](figuras/equacao_3.png \"Equação 3\")\n",
    "![Equacao 4](figuras/equacao_4.jpg \"Equação 4\")"
   ]
  }
 ],
 "metadata": {
  "kernelspec": {
   "display_name": "Python 3",
   "language": "python",
   "name": "python3"
  },
  "language_info": {
   "codemirror_mode": {
    "name": "ipython",
    "version": 3
   },
   "file_extension": ".py",
   "mimetype": "text/x-python",
   "name": "python",
   "nbconvert_exporter": "python",
   "pygments_lexer": "ipython3",
   "version": "3.7.0"
  }
 },
 "nbformat": 4,
 "nbformat_minor": 2
}
