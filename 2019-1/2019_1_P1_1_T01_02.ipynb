{
 "cells": [
  {
   "cell_type": "markdown",
   "metadata": {},
   "source": [
    "# UNIVERSIDADE FEDERAL RURAL DO SEMI-ÁRIDO - UFERSA"
   ]
  },
  {
   "cell_type": "markdown",
   "metadata": {},
   "source": [
    "# CAMPUS CARAÚBAS"
   ]
  },
  {
   "cell_type": "markdown",
   "metadata": {},
   "source": [
    "## Disciplina: CAM0005 - Mecânica Geral I – 2019.1"
   ]
  },
  {
   "cell_type": "markdown",
   "metadata": {},
   "source": [
    "## Professora: Ana Paula Ferreira Ramos"
   ]
  },
  {
   "cell_type": "markdown",
   "metadata": {},
   "source": [
    "## Avaliação 1 (P1)"
   ]
  },
  {
   "cell_type": "code",
   "execution_count": 1,
   "metadata": {},
   "outputs": [],
   "source": [
    "# importações necessárias para resolver os exercícios\n",
    "from numpy import array as vector, matrix, cos, sin, arccos, arcsin, degrees, radians\n",
    "from numpy.linalg import norm, solve"
   ]
  },
  {
   "cell_type": "markdown",
   "metadata": {},
   "source": [
    "**Questão 1**: Duas forças P e Q são aplicadas em um Ponto A, como ilustrado em suporte. Sabendo-se que P=60N e Q=25N.\n",
    "Determine graficamente a intensidade e a direção da força resultante aplicando (a) Lei do Paralelogramo, (b) a regra\n",
    "do triângulo."
   ]
  },
  {
   "cell_type": "markdown",
   "metadata": {},
   "source": [
    "![Figura 1](figuras/figura_1.jpg \"Figura 1\")"
   ]
  },
  {
   "cell_type": "markdown",
   "metadata": {},
   "source": [
    "Resolução:"
   ]
  },
  {
   "cell_type": "markdown",
   "metadata": {},
   "source": [
    "**a)**"
   ]
  },
  {
   "cell_type": "code",
   "execution_count": 2,
   "metadata": {},
   "outputs": [
    {
     "name": "stdout",
     "output_type": "stream",
     "text": [
      "Fr = 77.1085553557654\n"
     ]
    }
   ],
   "source": [
    "# módulo da força P\n",
    "P = 60\n",
    "\n",
    "# módulo da força Q\n",
    "Q = 25\n",
    "\n",
    "# o ângulo 55° em radianos (entre os vetores)\n",
    "ang55 = radians(55)\n",
    "\n",
    "# calcular força resultante pela regra do paralelogramo\n",
    "Fr = (P**2 + Q**2 + 2*P*Q*cos(ang55))**.5\n",
    "\n",
    "# exibir resultado\n",
    "print('Fr =',Fr)"
   ]
  },
  {
   "cell_type": "markdown",
   "metadata": {},
   "source": [
    "**b)**"
   ]
  },
  {
   "cell_type": "code",
   "execution_count": 3,
   "metadata": {},
   "outputs": [
    {
     "name": "stdout",
     "output_type": "stream",
     "text": [
      "ângulo com o eixo x = 94.59834098860082 °\n"
     ]
    }
   ],
   "source": [
    "# definir ângulo 125° em radianos\n",
    "ang125 = radians(125)\n",
    "\n",
    "# o ângulo entre a força resultante e a força e a força Q vale a = arcsen(sen(125°)*p/Fr)\n",
    "a = arcsin(sin(ang125)*P/Fr)\n",
    "\n",
    "# converter ângulo a para gradianos\n",
    "a = degrees(a)\n",
    "\n",
    "# ao somar a+55° é obtido o ângulo que a força resultante forma com o eixo x\n",
    "print('ângulo com o eixo x =',a+55,'°')"
   ]
  },
  {
   "cell_type": "markdown",
   "metadata": {},
   "source": [
    "**Questão 2**: Determine (Figura: Questão 2) : (a) as componentes x, y e z, da Força de 750N (b) os ângulos de direção coordenados (alfa, beta, gama) da força de 750N. (c) a projeção da força de 750N, ao longo da linha de ação da força de 900N. (d) A intensidade da força resultante na origem dos eixos coordenado (O)."
   ]
  },
  {
   "cell_type": "markdown",
   "metadata": {},
   "source": [
    "![Figura 2](figuras/figura_2.jpg \"Figura 2\")"
   ]
  },
  {
   "cell_type": "markdown",
   "metadata": {},
   "source": [
    "Resolução:"
   ]
  },
  {
   "cell_type": "markdown",
   "metadata": {},
   "source": [
    "**a)**"
   ]
  },
  {
   "cell_type": "code",
   "execution_count": 4,
   "metadata": {},
   "outputs": [
    {
     "name": "stdout",
     "output_type": "stream",
     "text": [
      "X = 389.87759304426334 Y = 614.3640332167439 Z = 181.80290737957802 (N)\n"
     ]
    }
   ],
   "source": [
    "# ângulo de 35° graus em radianos\n",
    "ang35 = radians(35)\n",
    "\n",
    "# ângulo de 25° graus em radianos\n",
    "ang25 = radians(25)\n",
    "\n",
    "# calcular cada componente\n",
    "comp_x = 750*sin(ang35)*cos(ang25)\n",
    "comp_y = 750*cos(ang35)\n",
    "comp_z = 750*sin(ang35)*sin(ang25)\n",
    "\n",
    "print('X =',comp_x,'Y =',comp_y,'Z =',comp_z,'(N)')"
   ]
  },
  {
   "cell_type": "markdown",
   "metadata": {},
   "source": [
    "**b)**"
   ]
  },
  {
   "cell_type": "code",
   "execution_count": 5,
   "metadata": {},
   "outputs": [
    {
     "name": "stdout",
     "output_type": "stream",
     "text": [
      "alfa = 58.67869562040227 beta = 34.99999999999999 gama = 75.97153735460674 °\n"
     ]
    }
   ],
   "source": [
    "# calcular alfa, beta, gama pela função arccos aplicada a cada componente\n",
    "alfa,beta,gama = arccos([comp_x/750,comp_y/750,comp_z/750])\n",
    "\n",
    "# converter alfa, beta e gama para gradianos\n",
    "alfa,beta,gama = degrees([alfa,beta,gama])\n",
    "\n",
    "# exibir resultado\n",
    "print('alfa =',alfa,'beta =',beta,'gama =',gama,'°')"
   ]
  },
  {
   "cell_type": "markdown",
   "metadata": {},
   "source": [
    "**c)**"
   ]
  },
  {
   "cell_type": "code",
   "execution_count": 6,
   "metadata": {},
   "outputs": [
    {
     "name": "stdout",
     "output_type": "stream",
     "text": [
      "Módulo =  572.6480748059289 X = -82.77281953270898 Y = 518.9954094281594 Z = 227.41645261071045 (N)\n"
     ]
    }
   ],
   "source": [
    "# ângulo de 65° em radianos\n",
    "ang65 = radians(65)\n",
    "\n",
    "# ângulo de 20° em radianos\n",
    "ang20 = radians(20)\n",
    "\n",
    "# definindo vetor unitário da força de 750 N\n",
    "U900 = vector([-cos(ang65)*sin(ang20),sin(ang65),cos(ang65)*cos(ang20)])\n",
    "\n",
    "# definindo força de 750 N\n",
    "F750 = vector([comp_x,comp_y,comp_z])\n",
    "\n",
    "# calcular produto escalar\n",
    "produto = F750.dot(U900)\n",
    "\n",
    "# vetor projeção\n",
    "x,y,z = produto*U900\n",
    "\n",
    "print('Módulo = ',produto,'X =',x,'Y =',y,'Z =',z,'(N)')"
   ]
  },
  {
   "cell_type": "markdown",
   "metadata": {},
   "source": [
    "**d)**"
   ]
  },
  {
   "cell_type": "code",
   "execution_count": 7,
   "metadata": {},
   "outputs": [
    {
     "name": "stdout",
     "output_type": "stream",
     "text": [
      "X = 259.78803043692426 Y = 1430.041041549729 Z = 539.2210431499706\n"
     ]
    }
   ],
   "source": [
    "# definindo força de 750 N\n",
    "F900 = 900*U900\n",
    "\n",
    "# somar forças \n",
    "Fr = F900 + F750\n",
    "\n",
    "# componentes da força resultante\n",
    "x,y,z = Fr\n",
    "\n",
    "# exibir resultado\n",
    "print('X =',x,'Y =',y,'Z =',z)"
   ]
  },
  {
   "cell_type": "markdown",
   "metadata": {},
   "source": [
    "**Questão 3**: Três cabos mantém o balão na posição de equilíbrio ilustrada. Determine a força vertical P exercida pelo balão no nó A, sabendo-se que a força no cabo AB é 481N."
   ]
  },
  {
   "cell_type": "markdown",
   "metadata": {},
   "source": [
    "![Figura 3](figuras/figura_3.jpg \"Figura 3\")"
   ]
  },
  {
   "cell_type": "markdown",
   "metadata": {},
   "source": [
    "Resolução:"
   ]
  },
  {
   "cell_type": "code",
   "execution_count": 8,
   "metadata": {},
   "outputs": [
    {
     "name": "stdout",
     "output_type": "stream",
     "text": [
      "Fab = 1915.2545454545452 (N)\n"
     ]
    }
   ],
   "source": [
    "# definir posições como vetores\n",
    "A = vector([0,5.6,0])\n",
    "B = vector([-4.2,0,0])\n",
    "C = vector([2.4,0,4.2])\n",
    "D = vector([0,0,-3.3])\n",
    "\n",
    "# definir vetores unitários das direções dos cabos\n",
    "AB = (B-A)/norm(B-A)\n",
    "AC = (C-A)/norm(C-A)\n",
    "AD = (D-A)/norm(D-A)\n",
    "\n",
    "# definir vetor unitário na direção da força P\n",
    "UP = vector([0,1,0])\n",
    "\n",
    "# definir força no cabo AB\n",
    "Fab = 481*AB\n",
    "\n",
    "# matriz dos valores\n",
    "MA = matrix([UP,AC,AD]).T\n",
    "\n",
    "# matriz dos valores\n",
    "MB = matrix(-Fab).T\n",
    "\n",
    "# resolver sistema linear e obter forças\n",
    "P,Fac,Fad = solve(MA,MB).A1\n",
    "\n",
    "print('Fab =',P,'(N)')"
   ]
  },
  {
   "cell_type": "markdown",
   "metadata": {},
   "source": [
    "**Equações**:"
   ]
  },
  {
   "cell_type": "markdown",
   "metadata": {},
   "source": [
    "![Equacao 1](figuras/equacao_1.png \"Equação 1\")\n",
    "![Equacao 2](figuras/equacao_2.png \"Equação 2\")\n",
    "![Equacao 3](figuras/equacao_3.png \"Equação 3\")\n",
    "![Equacao 4](figuras/equacao_4.jpg \"Equação 4\")"
   ]
  }
 ],
 "metadata": {
  "kernelspec": {
   "display_name": "Python 3",
   "language": "python",
   "name": "python3"
  },
  "language_info": {
   "codemirror_mode": {
    "name": "ipython",
    "version": 3
   },
   "file_extension": ".py",
   "mimetype": "text/x-python",
   "name": "python",
   "nbconvert_exporter": "python",
   "pygments_lexer": "ipython3",
   "version": "3.7.0"
  }
 },
 "nbformat": 4,
 "nbformat_minor": 2
}
